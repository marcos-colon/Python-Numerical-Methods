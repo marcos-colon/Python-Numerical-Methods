{
 "cells": [
  {
   "cell_type": "markdown",
   "id": "a8e57c07",
   "metadata": {},
   "source": [
    "1. Assign the value 2 to the variable x and the value 3 to the variable y. Clear just the variable x."
   ]
  },
  {
   "cell_type": "code",
   "execution_count": 6,
   "id": "6a1753a0",
   "metadata": {},
   "outputs": [],
   "source": [
    "x=2    # assign 2 to var x\n",
    "y=3    # assign 3 to var y\n",
    "del x  # clear var x"
   ]
  },
  {
   "cell_type": "markdown",
   "id": "cadd2bca",
   "metadata": {},
   "source": [
    "2. Write a line of code that generates the following error:\n",
    "\n",
    "NameError: name 'x' is not defined"
   ]
  },
  {
   "cell_type": "code",
   "execution_count": 7,
   "id": "36c58263",
   "metadata": {},
   "outputs": [
    {
     "ename": "NameError",
     "evalue": "name 'x' is not defined",
     "output_type": "error",
     "traceback": [
      "\u001b[0;31m---------------------------------------------------------------------------\u001b[0m",
      "\u001b[0;31mNameError\u001b[0m                                 Traceback (most recent call last)",
      "\u001b[0;32m<ipython-input-7-fc17d851ef81>\u001b[0m in \u001b[0;36m<module>\u001b[0;34m\u001b[0m\n\u001b[0;32m----> 1\u001b[0;31m \u001b[0mprint\u001b[0m\u001b[0;34m(\u001b[0m\u001b[0mx\u001b[0m\u001b[0;34m)\u001b[0m\u001b[0;34m\u001b[0m\u001b[0;34m\u001b[0m\u001b[0m\n\u001b[0m",
      "\u001b[0;31mNameError\u001b[0m: name 'x' is not defined"
     ]
    }
   ],
   "source": [
    "print(x)"
   ]
  },
  {
   "cell_type": "markdown",
   "id": "333001ad",
   "metadata": {},
   "source": [
    "3. Let x = 10 and y = 3. Write a line of code that will make each of the following assignments.\n",
    "\n",
    "- u = x + y\n",
    "- v = xy\n",
    "- w = x/y\n",
    "- z = sin(x)\n",
    "- r = 8sin(x) \n",
    "- s = 5sin(xy)\n",
    "- p = x**y"
   ]
  },
  {
   "cell_type": "code",
   "execution_count": 12,
   "id": "6b7a073e",
   "metadata": {},
   "outputs": [],
   "source": [
    "import math\n",
    "x=10\n",
    "y=3\n",
    "\n",
    "u = x + y\n",
    "v = x*y\n",
    "w = x/y\n",
    "z = math.sin(x)\n",
    "r = 8*math.sin(x) \n",
    "s = 5*math.sin(x*y)\n",
    "p = x**y"
   ]
  },
  {
   "cell_type": "markdown",
   "id": "b2b2b1b3",
   "metadata": {},
   "source": [
    "4. Show all the variables in the Jupyter notebook after you finish problem 3."
   ]
  },
  {
   "cell_type": "code",
   "execution_count": 14,
   "id": "7684972b",
   "metadata": {},
   "outputs": [
    {
     "name": "stdout",
     "output_type": "stream",
     "text": [
      "Variable   Type      Data/Info\n",
      "------------------------------\n",
      "math       module    <module 'math' from '/opt<...>th.cpython-38-darwin.so'>\n",
      "p          int       1000\n",
      "r          float     -4.352168887114959\n",
      "s          float     -4.940158120464309\n",
      "u          int       13\n",
      "v          int       30\n",
      "w          float     3.3333333333333335\n",
      "x          int       10\n",
      "y          int       3\n",
      "z          float     -0.5440211108893699\n"
     ]
    }
   ],
   "source": [
    "%whos"
   ]
  },
  {
   "cell_type": "markdown",
   "id": "69c8f9f1",
   "metadata": {},
   "source": [
    "5. Assign string ‘123’ to the variable S. Convert the string into a float type and assign the output to the variable N. Verify that S is a string and N is a float using the type function."
   ]
  },
  {
   "cell_type": "code",
   "execution_count": 23,
   "id": "a5cac21a",
   "metadata": {},
   "outputs": [
    {
     "name": "stdout",
     "output_type": "stream",
     "text": [
      "S:  <class 'str'>\n",
      "N:  <class 'float'>\n"
     ]
    }
   ],
   "source": [
    "S='123'\n",
    "N=float(S)\n",
    "print(\"S: \", type(S))\n",
    "print(\"N: \", type(N))"
   ]
  },
  {
   "cell_type": "markdown",
   "id": "e78cff24",
   "metadata": {},
   "source": [
    "6. Assign the string ‘HELLO’ to the variable s1 and the string ‘hello’ to the variable s2. Use the == operator to show that they are not equal. Use the == operator to show that s1 and s2 are equal if the lower method is used on s1. Use the == operator to show that s1 and s2 are equal if upper method is used on s2."
   ]
  },
  {
   "cell_type": "code",
   "execution_count": null,
   "id": "afb7b8ca",
   "metadata": {},
   "outputs": [],
   "source": []
  },
  {
   "cell_type": "markdown",
   "id": "8018cf3a",
   "metadata": {},
   "source": [
    "7. Use the print function to generate the following strings.\n",
    "\n",
    "-> The world ‘Engineering’ has 11 letters.\n",
    "\n",
    "-> The word ‘Book’ has 4 letters."
   ]
  },
  {
   "cell_type": "code",
   "execution_count": null,
   "id": "f77943a6",
   "metadata": {},
   "outputs": [],
   "source": []
  },
  {
   "cell_type": "markdown",
   "id": "03490ac5",
   "metadata": {},
   "source": [
    "8. Check if ‘Python’ is in ‘Python is great!’."
   ]
  },
  {
   "cell_type": "code",
   "execution_count": null,
   "id": "faa2bef2",
   "metadata": {},
   "outputs": [],
   "source": []
  },
  {
   "cell_type": "markdown",
   "id": "65192413",
   "metadata": {},
   "source": [
    "9. Get the last word ‘great’ from ‘Python is great!’"
   ]
  },
  {
   "cell_type": "code",
   "execution_count": null,
   "id": "51aec319",
   "metadata": {},
   "outputs": [],
   "source": []
  },
  {
   "cell_type": "markdown",
   "id": "4a7f336a",
   "metadata": {},
   "source": [
    "10. Assign list [1, 8, 9, 15] to a variable list_a and insert 2 at index 1 using the insert method. Append 4 to the list_a using the append method."
   ]
  },
  {
   "cell_type": "code",
   "execution_count": null,
   "id": "d887d7c3",
   "metadata": {},
   "outputs": [],
   "source": []
  }
 ],
 "metadata": {
  "kernelspec": {
   "display_name": "Python 3",
   "language": "python",
   "name": "python3"
  },
  "language_info": {
   "codemirror_mode": {
    "name": "ipython",
    "version": 3
   },
   "file_extension": ".py",
   "mimetype": "text/x-python",
   "name": "python",
   "nbconvert_exporter": "python",
   "pygments_lexer": "ipython3",
   "version": "3.8.10"
  }
 },
 "nbformat": 4,
 "nbformat_minor": 5
}
