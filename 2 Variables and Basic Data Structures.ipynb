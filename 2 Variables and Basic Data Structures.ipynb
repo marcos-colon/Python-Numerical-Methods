{
 "cells": [
  {
   "cell_type": "markdown",
   "id": "0a6b68a7",
   "metadata": {},
   "source": [
    "1. Assign the value 2 to the variable x and the value 3 to the variable y. Clear just the variable x."
   ]
  },
  {
   "cell_type": "code",
   "execution_count": 6,
   "id": "28017a4f",
   "metadata": {},
   "outputs": [],
   "source": [
    "x=2    # assign 2 to var x\n",
    "y=3    # assign 3 to var y\n",
    "del x  # clear var x"
   ]
  },
  {
   "cell_type": "markdown",
   "id": "2960cc6e",
   "metadata": {},
   "source": [
    "Write a line of code that generates the following error:\n",
    "\n",
    "NameError: name 'x' is not defined"
   ]
  },
  {
   "cell_type": "code",
   "execution_count": 7,
   "id": "334e4d97",
   "metadata": {},
   "outputs": [
    {
     "ename": "NameError",
     "evalue": "name 'x' is not defined",
     "output_type": "error",
     "traceback": [
      "\u001b[0;31m---------------------------------------------------------------------------\u001b[0m",
      "\u001b[0;31mNameError\u001b[0m                                 Traceback (most recent call last)",
      "\u001b[0;32m<ipython-input-7-fc17d851ef81>\u001b[0m in \u001b[0;36m<module>\u001b[0;34m\u001b[0m\n\u001b[0;32m----> 1\u001b[0;31m \u001b[0mprint\u001b[0m\u001b[0;34m(\u001b[0m\u001b[0mx\u001b[0m\u001b[0;34m)\u001b[0m\u001b[0;34m\u001b[0m\u001b[0;34m\u001b[0m\u001b[0m\n\u001b[0m",
      "\u001b[0;31mNameError\u001b[0m: name 'x' is not defined"
     ]
    }
   ],
   "source": [
    "print(x)"
   ]
  },
  {
   "cell_type": "markdown",
   "id": "c0452229",
   "metadata": {},
   "source": [
    "3. Let x = 10 and y = 3. Write a line of code that will make each of the following assignments.\n",
    "\n",
    "u = x + y\n",
    "v = xy\n",
    "w = x/y\n",
    "z = sin(x)\n",
    "r = 8sin(x) \n",
    "s = 5sin(xy)\n",
    "p = x**y"
   ]
  },
  {
   "cell_type": "code",
   "execution_count": 12,
   "id": "4b10a4a2",
   "metadata": {},
   "outputs": [],
   "source": [
    "import math\n",
    "x=10\n",
    "y=3\n",
    "\n",
    "u = x + y\n",
    "v = x*y\n",
    "w = x/y\n",
    "z = math.sin(x)\n",
    "r = 8*math.sin(x) \n",
    "s = 5*math.sin(x*y)\n",
    "p = x**y"
   ]
  },
  {
   "cell_type": "markdown",
   "id": "9d11363b",
   "metadata": {},
   "source": [
    "4. Show all the variables in the Jupyter notebook after you finish problem 3."
   ]
  },
  {
   "cell_type": "code",
   "execution_count": 14,
   "id": "f83c5e51",
   "metadata": {},
   "outputs": [
    {
     "name": "stdout",
     "output_type": "stream",
     "text": [
      "Variable   Type      Data/Info\n",
      "------------------------------\n",
      "math       module    <module 'math' from '/opt<...>th.cpython-38-darwin.so'>\n",
      "p          int       1000\n",
      "r          float     -4.352168887114959\n",
      "s          float     -4.940158120464309\n",
      "u          int       13\n",
      "v          int       30\n",
      "w          float     3.3333333333333335\n",
      "x          int       10\n",
      "y          int       3\n",
      "z          float     -0.5440211108893699\n"
     ]
    }
   ],
   "source": [
    "%whos"
   ]
  },
  {
   "cell_type": "code",
   "execution_count": null,
   "id": "d9d81f56",
   "metadata": {},
   "outputs": [],
   "source": []
  }
 ],
 "metadata": {
  "kernelspec": {
   "display_name": "Python 3",
   "language": "python",
   "name": "python3"
  },
  "language_info": {
   "codemirror_mode": {
    "name": "ipython",
    "version": 3
   },
   "file_extension": ".py",
   "mimetype": "text/x-python",
   "name": "python",
   "nbconvert_exporter": "python",
   "pygments_lexer": "ipython3",
   "version": "3.8.10"
  }
 },
 "nbformat": 4,
 "nbformat_minor": 5
}
