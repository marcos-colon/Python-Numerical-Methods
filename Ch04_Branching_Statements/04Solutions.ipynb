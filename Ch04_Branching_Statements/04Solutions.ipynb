{
 "cells": [
  {
   "cell_type": "markdown",
   "id": "58824e35-daa3-4e23-bba0-0e4194e3b74a",
   "metadata": {},
   "source": [
    "# Chapter 4: Branching Statements"
   ]
  },
  {
   "cell_type": "markdown",
   "id": "819ad247-6c78-452a-8721-4d56ad7d85c5",
   "metadata": {},
   "source": [
    "1. Write a function my_tip_calc(bill, party), where bill is the total cost of a meal and party is the number of people in\n",
    "the group. The tip should be calculated as 15% for a party strictly less than six people, 18% for a party strictly less than eight, \n",
    "20% for a party less than 11, and 25% for a party 11 or more. A couple of test cases are given below."
   ]
  },
  {
   "cell_type": "code",
   "execution_count": null,
   "id": "ee9fc580-cc79-429a-9591-9e473916d480",
   "metadata": {},
   "outputs": [],
   "source": [
    "def my_tip_calc(bill, party):\n",
    "    # write your function code here\n",
    "    \n",
    "    return tips"
   ]
  },
  {
   "cell_type": "code",
   "execution_count": null,
   "id": "5c50a999-2147-4423-ba11-59a37af44d52",
   "metadata": {},
   "outputs": [],
   "source": [
    "# t = 16.3935\n",
    "t = my_tip_calc(109.29,3) \n",
    "print(t)"
   ]
  },
  {
   "cell_type": "code",
   "execution_count": null,
   "id": "9e5bcd2d-abef-49ae-b772-b21fb7fa8b9f",
   "metadata": {},
   "outputs": [],
   "source": [
    "# t = 19.6722\n",
    "t = my_tip_calc(109.29,7) \n",
    "print(t)"
   ]
  },
  {
   "cell_type": "code",
   "execution_count": null,
   "id": "2d1d8c7b-5a82-4f20-bded-e1a34322d36c",
   "metadata": {},
   "outputs": [],
   "source": [
    "# t = 21.8580\n",
    "t = my_tip_calc(109.29,9)\n",
    "print(t)"
   ]
  },
  {
   "cell_type": "code",
   "execution_count": null,
   "id": "eeab2e67-82ca-4ed6-8e4e-126b8fd54271",
   "metadata": {},
   "outputs": [],
   "source": [
    "# t = 27.3225\n",
    "t = my_tip_calc(109.29,12)\n",
    "print(t)"
   ]
  },
  {
   "cell_type": "raw",
   "id": "85597366-efd7-46e7-b103-6f88bb48690c",
   "metadata": {},
   "source": [
    "2. Write a function my_mult_operation(a,b,operation). The input argument, operation, is a string that is either 'plus', 'minus', 'mult', 'div', or 'pow', and the function should compute: a+b\n",
    ", a−b\n",
    ", a∗b\n",
    ", a/b\n",
    ", and ab\n",
    " for the respective values for operation. A couple of test cases are given below."
   ]
  },
  {
   "cell_type": "code",
   "execution_count": null,
   "id": "2ecd8e3f-685f-4fae-abef-ae20a0197b1b",
   "metadata": {},
   "outputs": [],
   "source": []
  }
 ],
 "metadata": {
  "kernelspec": {
   "display_name": "Python 3 (ipykernel)",
   "language": "python",
   "name": "python3"
  },
  "language_info": {
   "codemirror_mode": {
    "name": "ipython",
    "version": 3
   },
   "file_extension": ".py",
   "mimetype": "text/x-python",
   "name": "python",
   "nbconvert_exporter": "python",
   "pygments_lexer": "ipython3",
   "version": "3.13.7"
  }
 },
 "nbformat": 4,
 "nbformat_minor": 5
}
