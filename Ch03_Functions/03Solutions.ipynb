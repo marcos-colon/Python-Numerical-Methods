{
 "cells": [
  {
   "cell_type": "markdown",
   "id": "e42b2064-eea0-4fa5-89ae-42b6b562959b",
   "metadata": {},
   "source": [
    "# Chapter 3: Functions"
   ]
  },
  {
   "cell_type": "markdown",
   "id": "303ae2a2-739d-41f5-a810-f240043e8590",
   "metadata": {},
   "source": [
    "1. Recall that the hyperbolic sine, denoted by sinh  is [exp(x)−exp(−x)]/2. Write a function my_sinh(x)\n",
    ", where the output y  is the hyperbolic sine computed on x. Assume that x is a 1 by 1 float."
   ]
  },
  {
   "cell_type": "code",
   "execution_count": 17,
   "id": "ff0c3822-7f50-4b4c-aca3-2f184fd70a8a",
   "metadata": {},
   "outputs": [],
   "source": [
    "import numpy as np\n",
    "def my_sinh(x):\n",
    "    sinh = (np.exp(x)-np.exp(-x))/2\n",
    "\n",
    "    return round(sinh, 4)"
   ]
  },
  {
   "cell_type": "code",
   "execution_count": 18,
   "id": "6ab047d8-443b-4ba3-a1ee-38101b25ff8d",
   "metadata": {},
   "outputs": [
    {
     "name": "stdout",
     "output_type": "stream",
     "text": [
      "0.0\n",
      "1.1752\n",
      "3.6269\n"
     ]
    }
   ],
   "source": [
    "''' TEST CASES \n",
    "In: my_sinh(0)\n",
    "Out: 0\n",
    "   \n",
    "In: my_sinh(1)\n",
    "Out: 1.1752\n",
    "   \n",
    "In: my_sinh(2)\n",
    "Out: 3.6269 \n",
    "'''\n",
    "\n",
    "print(my_sinh(0))\n",
    "print(my_sinh(1))\n",
    "print(my_sinh(2))\n"
   ]
  },
  {
   "cell_type": "code",
   "execution_count": null,
   "id": "0fe4efcc-ce57-4eb8-88c3-f33f0fdc7e32",
   "metadata": {},
   "outputs": [],
   "source": []
  }
 ],
 "metadata": {
  "kernelspec": {
   "display_name": "Python 3 (ipykernel)",
   "language": "python",
   "name": "python3"
  },
  "language_info": {
   "codemirror_mode": {
    "name": "ipython",
    "version": 3
   },
   "file_extension": ".py",
   "mimetype": "text/x-python",
   "name": "python",
   "nbconvert_exporter": "python",
   "pygments_lexer": "ipython3",
   "version": "3.13.7"
  }
 },
 "nbformat": 4,
 "nbformat_minor": 5
}
