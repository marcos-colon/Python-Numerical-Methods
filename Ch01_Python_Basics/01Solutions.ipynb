{
 "cells": [
  {
   "cell_type": "markdown",
   "id": "a8dbe554",
   "metadata": {},
   "source": [
    "# Chapter 1 Exercises"
   ]
  },
  {
   "cell_type": "markdown",
   "id": "b31f0bb7",
   "metadata": {},
   "source": [
    "5. Compute the area of a triangle with base 10 and height 12. Recall that the area of a triangle is half the base times the height."
   ]
  },
  {
   "cell_type": "code",
   "execution_count": 1,
   "id": "1aac707a",
   "metadata": {},
   "outputs": [
    {
     "name": "stdout",
     "output_type": "stream",
     "text": [
      "60.0\n"
     ]
    }
   ],
   "source": [
    "base = 10\n",
    "height = 12\n",
    "area = (base*height)/2\n",
    "print(area)"
   ]
  },
  {
   "cell_type": "markdown",
   "id": "28b1a70b",
   "metadata": {},
   "source": [
    "6. Compute the surface area and volume of a cylinder with radius 5 and height 3."
   ]
  },
  {
   "cell_type": "code",
   "execution_count": 2,
   "id": "ce6b78b6",
   "metadata": {},
   "outputs": [
    {
     "name": "stdout",
     "output_type": "stream",
     "text": [
      "31.41592653589793\n",
      "Surface area =  408.4070449666731\n",
      "Volume =  471.23889803846896\n",
      "3.141592653589793\n"
     ]
    }
   ],
   "source": [
    "import math\n",
    "radius = 5\n",
    "height = 3\n",
    "circumference = 2*(math.pi)*radius\n",
    "circle_area = 2*(math.pi)*(radius**2)\n",
    "surface_area = 2*circle_area + circumference*height\n",
    "volume = circle_area*height\n",
    "\n",
    "print(circumference)\n",
    "print(\"Surface area = \", surface_area)\n",
    "print(\"Volume = \", volume)\n",
    "print(math.pi)\n"
   ]
  },
  {
   "cell_type": "markdown",
   "id": "d47568a9",
   "metadata": {},
   "source": [
    "7. Compute the slope between the points (3,4)  and (5,9)"
   ]
  },
  {
   "cell_type": "code",
   "execution_count": 3,
   "id": "5be34e6e",
   "metadata": {},
   "outputs": [
    {
     "name": "stdout",
     "output_type": "stream",
     "text": [
      "slope =  2.5\n"
     ]
    }
   ],
   "source": [
    "x1 = 3\n",
    "x2 = 5\n",
    "y1 = 4\n",
    "y2 = 9\n",
    "slope = (y2-y1)/(x2-x1)\n",
    "print(\"slope = \",slope)"
   ]
  },
  {
   "cell_type": "markdown",
   "id": "6e8688ab",
   "metadata": {},
   "source": [
    "8. Compute the distance between the points (3,4) and (5,9)"
   ]
  },
  {
   "cell_type": "code",
   "execution_count": 4,
   "id": "079d39a8",
   "metadata": {},
   "outputs": [
    {
     "name": "stdout",
     "output_type": "stream",
     "text": [
      "Distance =  5.385164807134504\n"
     ]
    }
   ],
   "source": [
    "distance = math.sqrt(((x2-x1)**2)+((y2-y1)**2))\n",
    "print(\"Distance = \",distance)"
   ]
  },
  {
   "cell_type": "markdown",
   "id": "af7e82de",
   "metadata": {},
   "source": [
    "9. Use Python’s factorial function to compute 6!"
   ]
  },
  {
   "cell_type": "code",
   "execution_count": 5,
   "id": "03d23ca5",
   "metadata": {
    "scrolled": true
   },
   "outputs": [
    {
     "name": "stdout",
     "output_type": "stream",
     "text": [
      "The factorial of 6 is 720\n"
     ]
    }
   ],
   "source": [
    "import math\n",
    "x=math.factorial(6)\n",
    "print(\"The factorial of 6 is\",x)"
   ]
  },
  {
   "cell_type": "markdown",
   "id": "c3cdcb9b",
   "metadata": {},
   "source": [
    "10. A year is considered to be 365 days long. However, a more exact figure is 365.24 days. As a consequence, \n",
    "if we held to the standard 365-day year, we would gradually lose that fraction of the day over time, and seasons and \n",
    "other astronomical events would not occur as expected. A leap year is a year that has an extra day, February 29, \n",
    "to keep the timescale on track. Leap years occur on years that are exactly divisible by 4, unless it is exactly \n",
    "divisible by 100, unless it is divisible by 400. For example, the year 2004 is a leap year, the year 1900 is not \n",
    "a leap year, and the year 2000 is a leap year.\n",
    "\n",
    "Compute the number of leap years between the years 1500 and 2010."
   ]
  },
  {
   "cell_type": "code",
   "execution_count": 6,
   "id": "c4663c04",
   "metadata": {},
   "outputs": [
    {
     "name": "stdout",
     "output_type": "stream",
     "text": [
      "124\n"
     ]
    }
   ],
   "source": [
    "### Leap Year\n",
    "leap = 0\n",
    "\n",
    "for year in range(1500, 2011):\n",
    "    if year % 4 == 0:\n",
    "        leap += 1\n",
    "        if year % 100 == 0 and year % 400 != 0:\n",
    "            leap -= 1\n",
    "\n",
    "print(leap)"
   ]
  },
  {
   "cell_type": "markdown",
   "id": "250291a4",
   "metadata": {},
   "source": [
    "11. A very powerful approximation for π\n",
    " was developed by a brilliant mathematician named Srinivasa Ramanujan. The approximation is the following:\n",
    "1π≈22√9801∑Nk=0(4k)!(1103+26390k)(k!)43964k\n",
    ".\n",
    "Use Ramanujan’s formula for N=0\n",
    " and N=1\n",
    " to approximate π\n",
    ". Be sure to use format long. Compare your approximation with Python’s stored value for pi. Hint: 0!=1\n",
    " by definition."
   ]
  },
  {
   "cell_type": "code",
   "execution_count": 9,
   "id": "903eba69",
   "metadata": {},
   "outputs": [
    {
     "name": "stdout",
     "output_type": "stream",
     "text": [
      "Ramujan's pi=  3.1415926535897936\n",
      "Python's pi= 3.141592653589793\n"
     ]
    }
   ],
   "source": [
    "import math\n",
    "N_0 = 1103\n",
    "N_1 = (math.factorial(4)*(1103+26390))/(396**4)\n",
    "sum = N_0 + N_1\n",
    "Ramanujanpi = ((2*math.sqrt(2)/9801)*sum)**-1\n",
    "print(\"Ramujan's pi= \",Ramanujanpi)\n",
    "print(\"Python's pi=\", math.pi)\n",
    "\n"
   ]
  },
  {
   "cell_type": "markdown",
   "id": "5197e01e",
   "metadata": {},
   "source": [
    "12. The hyperbolic sin  or sinh  is defined in terms of exponentials as sinh(x)=(exp(x)−exp(−x))/2.\n",
    "Compute sinh  for x=2  using exponentials. Verify that the result is indeed the hyperbolic sin\n",
    " using Python’s function sinh in the math module."
   ]
  },
  {
   "cell_type": "code",
   "execution_count": 11,
   "id": "4b654d33",
   "metadata": {},
   "outputs": [
    {
     "name": "stdout",
     "output_type": "stream",
     "text": [
      "Exponentials defined sinh(2) =  3.626860407847019\n",
      "Python's function sinh(2) =  3.6268604078470186\n"
     ]
    }
   ],
   "source": [
    "import math\n",
    "expsinh = (math.exp(2)-math.exp(-2))/2\n",
    "pythonsinh = math.sinh(2)\n",
    "\n",
    "print(\"Exponentials defined sinh(2) = \", expsinh)\n",
    "print(\"Python's function sinh(2) = \", pythonsinh)"
   ]
  },
  {
   "cell_type": "markdown",
   "id": "dddb2bd7",
   "metadata": {},
   "source": [
    "13. Verify that sin^2(x)+cos^2(x)=1  for x=π,π/2,π/4,π/6.\n"
   ]
  },
  {
   "cell_type": "code",
   "execution_count": 13,
   "id": "574915ad",
   "metadata": {},
   "outputs": [
    {
     "name": "stdout",
     "output_type": "stream",
     "text": [
      "Test identity with pi =  1.0\n",
      "Test identity with pi/2 =  1.0\n",
      "Test identity with pi/4 =  1.0000000000000002\n",
      "Test identity with pi/6 =  1.0\n"
     ]
    }
   ],
   "source": [
    "import math\n",
    "\n",
    "testpi = math.sin(math.pi)**2 + math.cos(math.pi)**2\n",
    "testpi2 = math.sin(math.pi/2)**2 + math.cos(math.pi/2)**2\n",
    "testpi4 = math.sin(math.pi/4)**2 + math.cos(math.pi/4)**2\n",
    "testpi6 = math.sin(math.pi/6)**2 + math.cos(math.pi/6)**2\n",
    "\n",
    "print(\"Test identity with pi = \", testpi)\n",
    "print(\"Test identity with pi/2 = \", testpi2)\n",
    "print(\"Test identity with pi/4 = \", testpi4)\n",
    "print(\"Test identity with pi/6 = \", testpi6)\n"
   ]
  },
  {
   "cell_type": "markdown",
   "id": "39e65a1e",
   "metadata": {},
   "source": [
    "14. Compute the sin87°."
   ]
  },
  {
   "cell_type": "code",
   "execution_count": 15,
   "id": "07e8037c",
   "metadata": {},
   "outputs": [
    {
     "name": "stdout",
     "output_type": "stream",
     "text": [
      "sin(87)=  -0.8218178366308225\n"
     ]
    }
   ],
   "source": [
    "import math\n",
    "print(\"sin(87)= \", math.sin(87))\n"
   ]
  },
  {
   "cell_type": "markdown",
   "id": "0f9158aa",
   "metadata": {},
   "source": []
  }
 ],
 "metadata": {
  "kernelspec": {
   "display_name": "Python 3",
   "language": "python",
   "name": "python3"
  },
  "language_info": {
   "codemirror_mode": {
    "name": "ipython",
    "version": 3
   },
   "file_extension": ".py",
   "mimetype": "text/x-python",
   "name": "python",
   "nbconvert_exporter": "python",
   "pygments_lexer": "ipython3",
   "version": "3.8.10"
  }
 },
 "nbformat": 4,
 "nbformat_minor": 5
}
